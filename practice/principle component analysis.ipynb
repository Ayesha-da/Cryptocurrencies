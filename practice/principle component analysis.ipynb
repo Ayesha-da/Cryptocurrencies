{
 "cells": [
  {
   "cell_type": "code",
   "execution_count": 15,
   "id": "e20728dd",
   "metadata": {},
   "outputs": [],
   "source": [
    "import pandas as pd\n",
    "from sklearn.preprocessing import StandardScaler\n",
    "from sklearn.decomposition import PCA\n",
    "from sklearn.cluster import KMeans\n",
    "import hvplot.pandas\n"
   ]
  },
  {
   "cell_type": "code",
   "execution_count": 2,
   "id": "9ae4b6c9",
   "metadata": {},
   "outputs": [
    {
     "data": {
      "text/html": [
       "<div>\n",
       "<style scoped>\n",
       "    .dataframe tbody tr th:only-of-type {\n",
       "        vertical-align: middle;\n",
       "    }\n",
       "\n",
       "    .dataframe tbody tr th {\n",
       "        vertical-align: top;\n",
       "    }\n",
       "\n",
       "    .dataframe thead th {\n",
       "        text-align: right;\n",
       "    }\n",
       "</style>\n",
       "<table border=\"1\" class=\"dataframe\">\n",
       "  <thead>\n",
       "    <tr style=\"text-align: right;\">\n",
       "      <th></th>\n",
       "      <th>sepal_length</th>\n",
       "      <th>petal_length</th>\n",
       "      <th>sepal_width</th>\n",
       "      <th>petal_width</th>\n",
       "    </tr>\n",
       "  </thead>\n",
       "  <tbody>\n",
       "    <tr>\n",
       "      <th>0</th>\n",
       "      <td>5.1</td>\n",
       "      <td>1.4</td>\n",
       "      <td>3.5</td>\n",
       "      <td>0.2</td>\n",
       "    </tr>\n",
       "    <tr>\n",
       "      <th>1</th>\n",
       "      <td>4.9</td>\n",
       "      <td>1.4</td>\n",
       "      <td>3.0</td>\n",
       "      <td>0.2</td>\n",
       "    </tr>\n",
       "    <tr>\n",
       "      <th>2</th>\n",
       "      <td>4.7</td>\n",
       "      <td>1.3</td>\n",
       "      <td>3.2</td>\n",
       "      <td>0.2</td>\n",
       "    </tr>\n",
       "    <tr>\n",
       "      <th>3</th>\n",
       "      <td>4.6</td>\n",
       "      <td>1.5</td>\n",
       "      <td>3.1</td>\n",
       "      <td>0.2</td>\n",
       "    </tr>\n",
       "    <tr>\n",
       "      <th>4</th>\n",
       "      <td>5.0</td>\n",
       "      <td>1.4</td>\n",
       "      <td>3.6</td>\n",
       "      <td>0.2</td>\n",
       "    </tr>\n",
       "    <tr>\n",
       "      <th>...</th>\n",
       "      <td>...</td>\n",
       "      <td>...</td>\n",
       "      <td>...</td>\n",
       "      <td>...</td>\n",
       "    </tr>\n",
       "    <tr>\n",
       "      <th>145</th>\n",
       "      <td>6.7</td>\n",
       "      <td>5.2</td>\n",
       "      <td>3.0</td>\n",
       "      <td>2.3</td>\n",
       "    </tr>\n",
       "    <tr>\n",
       "      <th>146</th>\n",
       "      <td>6.3</td>\n",
       "      <td>5.0</td>\n",
       "      <td>2.5</td>\n",
       "      <td>1.9</td>\n",
       "    </tr>\n",
       "    <tr>\n",
       "      <th>147</th>\n",
       "      <td>6.5</td>\n",
       "      <td>5.2</td>\n",
       "      <td>3.0</td>\n",
       "      <td>2.0</td>\n",
       "    </tr>\n",
       "    <tr>\n",
       "      <th>148</th>\n",
       "      <td>6.2</td>\n",
       "      <td>5.4</td>\n",
       "      <td>3.4</td>\n",
       "      <td>2.3</td>\n",
       "    </tr>\n",
       "    <tr>\n",
       "      <th>149</th>\n",
       "      <td>5.9</td>\n",
       "      <td>5.1</td>\n",
       "      <td>3.0</td>\n",
       "      <td>1.8</td>\n",
       "    </tr>\n",
       "  </tbody>\n",
       "</table>\n",
       "<p>150 rows × 4 columns</p>\n",
       "</div>"
      ],
      "text/plain": [
       "     sepal_length  petal_length  sepal_width  petal_width\n",
       "0             5.1           1.4          3.5          0.2\n",
       "1             4.9           1.4          3.0          0.2\n",
       "2             4.7           1.3          3.2          0.2\n",
       "3             4.6           1.5          3.1          0.2\n",
       "4             5.0           1.4          3.6          0.2\n",
       "..            ...           ...          ...          ...\n",
       "145           6.7           5.2          3.0          2.3\n",
       "146           6.3           5.0          2.5          1.9\n",
       "147           6.5           5.2          3.0          2.0\n",
       "148           6.2           5.4          3.4          2.3\n",
       "149           5.9           5.1          3.0          1.8\n",
       "\n",
       "[150 rows x 4 columns]"
      ]
     },
     "execution_count": 2,
     "metadata": {},
     "output_type": "execute_result"
    }
   ],
   "source": [
    "file=\"Resources/new_iris_data.csv\"\n",
    "df=pd.read_csv(file)\n",
    "df"
   ]
  },
  {
   "cell_type": "code",
   "execution_count": 3,
   "id": "9b7152a2",
   "metadata": {},
   "outputs": [
    {
     "name": "stdout",
     "output_type": "stream",
     "text": [
      "[[-0.90068117 -1.3412724   1.03205722 -1.31297673]\n",
      " [-1.14301691 -1.3412724  -0.1249576  -1.31297673]\n",
      " [-1.38535265 -1.39813811  0.33784833 -1.31297673]\n",
      " [-1.50652052 -1.2844067   0.10644536 -1.31297673]\n",
      " [-1.02184904 -1.3412724   1.26346019 -1.31297673]]\n"
     ]
    }
   ],
   "source": [
    "iris_scaled=StandardScaler().fit_transform(df)\n",
    "print(iris_scaled[0:5]i)"
   ]
  },
  {
   "cell_type": "code",
   "execution_count": 4,
   "id": "9e0f971b",
   "metadata": {},
   "outputs": [],
   "source": [
    "# Initialize PCA model\n",
    "pca=PCA(n_components=2)"
   ]
  },
  {
   "cell_type": "code",
   "execution_count": 5,
   "id": "978dfd32",
   "metadata": {},
   "outputs": [],
   "source": [
    "# Get two principal components for the iris data.\n",
    "iris_pca= pca.fit_transform(iris_scaled)"
   ]
  },
  {
   "cell_type": "code",
   "execution_count": 6,
   "id": "785ae08c",
   "metadata": {},
   "outputs": [
    {
     "data": {
      "text/html": [
       "<div>\n",
       "<style scoped>\n",
       "    .dataframe tbody tr th:only-of-type {\n",
       "        vertical-align: middle;\n",
       "    }\n",
       "\n",
       "    .dataframe tbody tr th {\n",
       "        vertical-align: top;\n",
       "    }\n",
       "\n",
       "    .dataframe thead th {\n",
       "        text-align: right;\n",
       "    }\n",
       "</style>\n",
       "<table border=\"1\" class=\"dataframe\">\n",
       "  <thead>\n",
       "    <tr style=\"text-align: right;\">\n",
       "      <th></th>\n",
       "      <th>principle component 1</th>\n",
       "      <th>principle component 2</th>\n",
       "    </tr>\n",
       "  </thead>\n",
       "  <tbody>\n",
       "    <tr>\n",
       "      <th>0</th>\n",
       "      <td>-2.264542</td>\n",
       "      <td>0.505704</td>\n",
       "    </tr>\n",
       "    <tr>\n",
       "      <th>1</th>\n",
       "      <td>-2.086426</td>\n",
       "      <td>-0.655405</td>\n",
       "    </tr>\n",
       "    <tr>\n",
       "      <th>2</th>\n",
       "      <td>-2.367950</td>\n",
       "      <td>-0.318477</td>\n",
       "    </tr>\n",
       "    <tr>\n",
       "      <th>3</th>\n",
       "      <td>-2.304197</td>\n",
       "      <td>-0.575368</td>\n",
       "    </tr>\n",
       "    <tr>\n",
       "      <th>4</th>\n",
       "      <td>-2.388777</td>\n",
       "      <td>0.674767</td>\n",
       "    </tr>\n",
       "  </tbody>\n",
       "</table>\n",
       "</div>"
      ],
      "text/plain": [
       "   principle component 1  principle component 2\n",
       "0              -2.264542               0.505704\n",
       "1              -2.086426              -0.655405\n",
       "2              -2.367950              -0.318477\n",
       "3              -2.304197              -0.575368\n",
       "4              -2.388777               0.674767"
      ]
     },
     "execution_count": 6,
     "metadata": {},
     "output_type": "execute_result"
    }
   ],
   "source": [
    "iris_df=pd.DataFrame(data= iris_pca, columns=[\"principle component 1\",\"principle component 2\"])\n",
    "iris_df.head(5)"
   ]
  },
  {
   "cell_type": "code",
   "execution_count": 7,
   "id": "8e86fc98",
   "metadata": {},
   "outputs": [
    {
     "data": {
      "text/plain": [
       "array([0.72770452, 0.23030523])"
      ]
     },
     "execution_count": 7,
     "metadata": {},
     "output_type": "execute_result"
    }
   ],
   "source": [
    "# fetch explained variance\n",
    "pca.explained_variance_ratio_"
   ]
  },
  {
   "cell_type": "code",
   "execution_count": 8,
   "id": "452f3d08",
   "metadata": {},
   "outputs": [
    {
     "name": "stderr",
     "output_type": "stream",
     "text": [
      "C:\\Users\\ayesh\\anaconda3\\envs\\mlenv\\lib\\site-packages\\sklearn\\cluster\\_kmeans.py:882: UserWarning: KMeans is known to have a memory leak on Windows with MKL, when there are less chunks than available threads. You can avoid it by setting the environment variable OMP_NUM_THREADS=1.\n",
      "  f\"KMeans is known to have a memory leak on Windows \"\n"
     ]
    },
    {
     "data": {},
     "metadata": {},
     "output_type": "display_data"
    },
    {
     "data": {
      "application/vnd.holoviews_exec.v0+json": "",
      "text/html": [
       "<div id='1002'>\n",
       "\n",
       "\n",
       "\n",
       "\n",
       "\n",
       "  <div class=\"bk-root\" id=\"d5170a71-5a8c-48ef-a152-2cd61e5ba5a4\" data-root-id=\"1002\"></div>\n",
       "</div>\n",
       "<script type=\"application/javascript\">(function(root) {\n",
       "  function embed_document(root) {\n",
       "    var docs_json = {\"0b1ba9e0-eb1c-43e6-a340-e3986bb0d10f\":{\"defs\":[{\"extends\":null,\"module\":null,\"name\":\"ReactiveHTML1\",\"overrides\":[],\"properties\":[]},{\"extends\":null,\"module\":null,\"name\":\"FlexBox1\",\"overrides\":[],\"properties\":[{\"default\":\"flex-start\",\"kind\":null,\"name\":\"align_content\"},{\"default\":\"flex-start\",\"kind\":null,\"name\":\"align_items\"},{\"default\":\"row\",\"kind\":null,\"name\":\"flex_direction\"},{\"default\":\"wrap\",\"kind\":null,\"name\":\"flex_wrap\"},{\"default\":\"flex-start\",\"kind\":null,\"name\":\"justify_content\"}]},{\"extends\":null,\"module\":null,\"name\":\"TemplateActions1\",\"overrides\":[],\"properties\":[{\"default\":0,\"kind\":null,\"name\":\"open_modal\"},{\"default\":0,\"kind\":null,\"name\":\"close_modal\"}]},{\"extends\":null,\"module\":null,\"name\":\"MaterialTemplateActions1\",\"overrides\":[],\"properties\":[{\"default\":0,\"kind\":null,\"name\":\"open_modal\"},{\"default\":0,\"kind\":null,\"name\":\"close_modal\"}]}],\"roots\":{\"references\":[{\"attributes\":{},\"id\":\"1024\",\"type\":\"SaveTool\"},{\"attributes\":{},\"id\":\"1053\",\"type\":\"AllLabels\"},{\"attributes\":{},\"id\":\"1025\",\"type\":\"PanTool\"},{\"attributes\":{},\"id\":\"1028\",\"type\":\"ResetTool\"},{\"attributes\":{},\"id\":\"1026\",\"type\":\"WheelZoomTool\"},{\"attributes\":{\"axis\":{\"id\":\"1016\"},\"grid_line_color\":null,\"ticker\":null},\"id\":\"1019\",\"type\":\"Grid\"},{\"attributes\":{\"overlay\":{\"id\":\"1029\"}},\"id\":\"1027\",\"type\":\"BoxZoomTool\"},{\"attributes\":{\"line_alpha\":0.2,\"line_color\":\"#30a2da\",\"line_width\":2,\"x\":{\"field\":\"k\"},\"y\":{\"field\":\"inertia\"}},\"id\":\"1042\",\"type\":\"Line\"},{\"attributes\":{},\"id\":\"1038\",\"type\":\"Selection\"},{\"attributes\":{\"margin\":[5,5,5,5],\"name\":\"HSpacer01632\",\"sizing_mode\":\"stretch_width\"},\"id\":\"1073\",\"type\":\"Spacer\"},{\"attributes\":{\"line_alpha\":0.1,\"line_color\":\"#30a2da\",\"line_width\":2,\"x\":{\"field\":\"k\"},\"y\":{\"field\":\"inertia\"}},\"id\":\"1041\",\"type\":\"Line\"},{\"attributes\":{\"text\":\"Elbow Curve\",\"text_color\":\"black\",\"text_font_size\":\"12pt\"},\"id\":\"1008\",\"type\":\"Title\"},{\"attributes\":{},\"id\":\"1012\",\"type\":\"LinearScale\"},{\"attributes\":{\"margin\":[5,5,5,5],\"name\":\"HSpacer01631\",\"sizing_mode\":\"stretch_width\"},\"id\":\"1003\",\"type\":\"Spacer\"},{\"attributes\":{\"end\":10.0,\"reset_end\":10.0,\"reset_start\":1.0,\"start\":1.0,\"tags\":[[[\"k\",\"k\",null]]]},\"id\":\"1004\",\"type\":\"Range1d\"},{\"attributes\":{},\"id\":\"1014\",\"type\":\"LinearScale\"},{\"attributes\":{\"line_color\":\"#30a2da\",\"line_width\":2,\"x\":{\"field\":\"k\"},\"y\":{\"field\":\"inertia\"}},\"id\":\"1040\",\"type\":\"Line\"},{\"attributes\":{\"data\":{\"inertia\":{\"__ndarray__\":\"aDafYnL2gUA1bWBmntZoQKmmqsr9Bl1AVPWgT6xnVkDj0qR94pNQQBAzFtg6gkxAMIlQDTvuR0D7MOcNVaJDQOy1b3wwFkBA9y2/QpNqPEA=\",\"dtype\":\"float64\",\"order\":\"little\",\"shape\":[10]},\"k\":[1,2,3,4,5,6,7,8,9,10]},\"selected\":{\"id\":\"1038\"},\"selection_policy\":{\"id\":\"1063\"}},\"id\":\"1037\",\"type\":\"ColumnDataSource\"},{\"attributes\":{},\"id\":\"1021\",\"type\":\"BasicTicker\"},{\"attributes\":{\"axis_label\":\"k\",\"formatter\":{\"id\":\"1047\"},\"major_label_policy\":{\"id\":\"1048\"},\"ticker\":{\"id\":\"1046\"}},\"id\":\"1016\",\"type\":\"LinearAxis\"},{\"attributes\":{},\"id\":\"1048\",\"type\":\"AllLabels\"},{\"attributes\":{},\"id\":\"1063\",\"type\":\"UnionRenderers\"},{\"attributes\":{},\"id\":\"1052\",\"type\":\"BasicTickFormatter\"},{\"attributes\":{\"below\":[{\"id\":\"1016\"}],\"center\":[{\"id\":\"1019\"},{\"id\":\"1023\"}],\"height\":300,\"left\":[{\"id\":\"1020\"}],\"margin\":[5,5,5,5],\"min_border_bottom\":10,\"min_border_left\":10,\"min_border_right\":10,\"min_border_top\":10,\"renderers\":[{\"id\":\"1043\"}],\"sizing_mode\":\"fixed\",\"title\":{\"id\":\"1008\"},\"toolbar\":{\"id\":\"1030\"},\"width\":700,\"x_range\":{\"id\":\"1004\"},\"x_scale\":{\"id\":\"1012\"},\"y_range\":{\"id\":\"1005\"},\"y_scale\":{\"id\":\"1014\"}},\"id\":\"1007\",\"subtype\":\"Figure\",\"type\":\"Plot\"},{\"attributes\":{\"line_color\":\"#30a2da\",\"line_width\":2,\"x\":{\"field\":\"k\"},\"y\":{\"field\":\"inertia\"}},\"id\":\"1045\",\"type\":\"Line\"},{\"attributes\":{\"active_multi\":null,\"tools\":[{\"id\":\"1006\"},{\"id\":\"1024\"},{\"id\":\"1025\"},{\"id\":\"1026\"},{\"id\":\"1027\"},{\"id\":\"1028\"}]},\"id\":\"1030\",\"type\":\"Toolbar\"},{\"attributes\":{\"axis\":{\"id\":\"1020\"},\"dimension\":1,\"grid_line_color\":null,\"ticker\":null},\"id\":\"1023\",\"type\":\"Grid\"},{\"attributes\":{\"axis_label\":\"inertia\",\"formatter\":{\"id\":\"1052\"},\"major_label_policy\":{\"id\":\"1053\"},\"ticker\":{\"id\":\"1021\"}},\"id\":\"1020\",\"type\":\"LinearAxis\"},{\"attributes\":{\"ticks\":[1,2,3,4,5,6,7,8,9,10]},\"id\":\"1046\",\"type\":\"FixedTicker\"},{\"attributes\":{\"source\":{\"id\":\"1037\"}},\"id\":\"1044\",\"type\":\"CDSView\"},{\"attributes\":{\"bottom_units\":\"screen\",\"fill_alpha\":0.5,\"fill_color\":\"lightgrey\",\"left_units\":\"screen\",\"level\":\"overlay\",\"line_alpha\":1.0,\"line_color\":\"black\",\"line_dash\":[4,4],\"line_width\":2,\"right_units\":\"screen\",\"syncable\":false,\"top_units\":\"screen\"},\"id\":\"1029\",\"type\":\"BoxAnnotation\"},{\"attributes\":{\"end\":629.4448064337398,\"reset_end\":629.4448064337398,\"reset_start\":-26.222644744436852,\"start\":-26.222644744436852,\"tags\":[[[\"inertia\",\"inertia\",null]]]},\"id\":\"1005\",\"type\":\"Range1d\"},{\"attributes\":{\"data_source\":{\"id\":\"1037\"},\"glyph\":{\"id\":\"1040\"},\"hover_glyph\":null,\"muted_glyph\":{\"id\":\"1042\"},\"nonselection_glyph\":{\"id\":\"1041\"},\"selection_glyph\":{\"id\":\"1045\"},\"view\":{\"id\":\"1044\"}},\"id\":\"1043\",\"type\":\"GlyphRenderer\"},{\"attributes\":{\"callback\":null,\"renderers\":[{\"id\":\"1043\"}],\"tags\":[\"hv_created\"],\"tooltips\":[[\"k\",\"@{k}\"],[\"inertia\",\"@{inertia}\"]]},\"id\":\"1006\",\"type\":\"HoverTool\"},{\"attributes\":{\"children\":[{\"id\":\"1003\"},{\"id\":\"1007\"},{\"id\":\"1073\"}],\"margin\":[0,0,0,0],\"name\":\"Row01627\",\"tags\":[\"embedded\"]},\"id\":\"1002\",\"type\":\"Row\"},{\"attributes\":{},\"id\":\"1047\",\"type\":\"BasicTickFormatter\"}],\"root_ids\":[\"1002\"]},\"title\":\"Bokeh Application\",\"version\":\"2.3.2\"}};\n",
       "    var render_items = [{\"docid\":\"0b1ba9e0-eb1c-43e6-a340-e3986bb0d10f\",\"root_ids\":[\"1002\"],\"roots\":{\"1002\":\"d5170a71-5a8c-48ef-a152-2cd61e5ba5a4\"}}];\n",
       "    root.Bokeh.embed.embed_items_notebook(docs_json, render_items);\n",
       "  }\n",
       "  if (root.Bokeh !== undefined && root.Bokeh.Panel !== undefined) {\n",
       "    embed_document(root);\n",
       "  } else {\n",
       "    var attempts = 0;\n",
       "    var timer = setInterval(function(root) {\n",
       "      if (root.Bokeh !== undefined && root.Bokeh.Panel !== undefined) {\n",
       "        clearInterval(timer);\n",
       "        embed_document(root);\n",
       "      } else if (document.readyState == \"complete\") {\n",
       "        attempts++;\n",
       "        if (attempts > 200) {\n",
       "          clearInterval(timer);\n",
       "          console.log(\"Bokeh: ERROR: Unable to run BokehJS code because BokehJS library is missing\");\n",
       "        }\n",
       "      }\n",
       "    }, 25, root)\n",
       "  }\n",
       "})(window);</script>"
      ],
      "text/plain": [
       ":Curve   [k]   (inertia)"
      ]
     },
     "execution_count": 8,
     "metadata": {
      "application/vnd.holoviews_exec.v0+json": {
       "id": "1002"
      }
     },
     "output_type": "execute_result"
    }
   ],
   "source": [
    "# Find the best value for K\n",
    "inertia=[]\n",
    "k=list(range(1,11))\n",
    "\n",
    "# Calculate the inertia for the range of K values\n",
    "\n",
    "for i in k:\n",
    "    km= KMeans(n_clusters=i,random_state=0)\n",
    "    km.fit(iris_df)\n",
    "    inertia.append(km.inertia_)\n",
    "    \n",
    "# Create the elbow curve\n",
    "elbow_data={\"k\":k,\"inertia\":inertia}\n",
    "elbow_df=pd.DataFrame(elbow_data)\n",
    "elbow_df.hvplot.line(x=\"k\",y=\"inertia\",xticks=k,title=\"Elbow Curve\")"
   ]
  },
  {
   "cell_type": "code",
   "execution_count": 12,
   "id": "5b01c434",
   "metadata": {},
   "outputs": [
    {
     "data": {
      "text/html": [
       "<div>\n",
       "<style scoped>\n",
       "    .dataframe tbody tr th:only-of-type {\n",
       "        vertical-align: middle;\n",
       "    }\n",
       "\n",
       "    .dataframe tbody tr th {\n",
       "        vertical-align: top;\n",
       "    }\n",
       "\n",
       "    .dataframe thead th {\n",
       "        text-align: right;\n",
       "    }\n",
       "</style>\n",
       "<table border=\"1\" class=\"dataframe\">\n",
       "  <thead>\n",
       "    <tr style=\"text-align: right;\">\n",
       "      <th></th>\n",
       "      <th>principle component 1</th>\n",
       "      <th>principle component 2</th>\n",
       "      <th>class</th>\n",
       "    </tr>\n",
       "  </thead>\n",
       "  <tbody>\n",
       "    <tr>\n",
       "      <th>0</th>\n",
       "      <td>-2.264542</td>\n",
       "      <td>0.505704</td>\n",
       "      <td>0</td>\n",
       "    </tr>\n",
       "    <tr>\n",
       "      <th>1</th>\n",
       "      <td>-2.086426</td>\n",
       "      <td>-0.655405</td>\n",
       "      <td>0</td>\n",
       "    </tr>\n",
       "    <tr>\n",
       "      <th>2</th>\n",
       "      <td>-2.367950</td>\n",
       "      <td>-0.318477</td>\n",
       "      <td>0</td>\n",
       "    </tr>\n",
       "    <tr>\n",
       "      <th>3</th>\n",
       "      <td>-2.304197</td>\n",
       "      <td>-0.575368</td>\n",
       "      <td>0</td>\n",
       "    </tr>\n",
       "    <tr>\n",
       "      <th>4</th>\n",
       "      <td>-2.388777</td>\n",
       "      <td>0.674767</td>\n",
       "      <td>0</td>\n",
       "    </tr>\n",
       "    <tr>\n",
       "      <th>...</th>\n",
       "      <td>...</td>\n",
       "      <td>...</td>\n",
       "      <td>...</td>\n",
       "    </tr>\n",
       "    <tr>\n",
       "      <th>145</th>\n",
       "      <td>1.870522</td>\n",
       "      <td>0.382822</td>\n",
       "      <td>1</td>\n",
       "    </tr>\n",
       "    <tr>\n",
       "      <th>146</th>\n",
       "      <td>1.558492</td>\n",
       "      <td>-0.905314</td>\n",
       "      <td>2</td>\n",
       "    </tr>\n",
       "    <tr>\n",
       "      <th>147</th>\n",
       "      <td>1.520845</td>\n",
       "      <td>0.266795</td>\n",
       "      <td>1</td>\n",
       "    </tr>\n",
       "    <tr>\n",
       "      <th>148</th>\n",
       "      <td>1.376391</td>\n",
       "      <td>1.016362</td>\n",
       "      <td>1</td>\n",
       "    </tr>\n",
       "    <tr>\n",
       "      <th>149</th>\n",
       "      <td>0.959299</td>\n",
       "      <td>-0.022284</td>\n",
       "      <td>2</td>\n",
       "    </tr>\n",
       "  </tbody>\n",
       "</table>\n",
       "<p>150 rows × 3 columns</p>\n",
       "</div>"
      ],
      "text/plain": [
       "     principle component 1  principle component 2  class\n",
       "0                -2.264542               0.505704      0\n",
       "1                -2.086426              -0.655405      0\n",
       "2                -2.367950              -0.318477      0\n",
       "3                -2.304197              -0.575368      0\n",
       "4                -2.388777               0.674767      0\n",
       "..                     ...                    ...    ...\n",
       "145               1.870522               0.382822      1\n",
       "146               1.558492              -0.905314      2\n",
       "147               1.520845               0.266795      1\n",
       "148               1.376391               1.016362      1\n",
       "149               0.959299              -0.022284      2\n",
       "\n",
       "[150 rows x 3 columns]"
      ]
     },
     "execution_count": 12,
     "metadata": {},
     "output_type": "execute_result"
    }
   ],
   "source": [
    "# Initialize the K-means model\n",
    "model = KMeans(n_clusters=3,random_state=0)\n",
    "\n",
    "# Fit the model\n",
    "model.fit(iris_df)\n",
    "\n",
    "# Predict clusters\n",
    "predictions=model.predict(iris_df)\n",
    "\n",
    "# Add the predicted class columns\n",
    "iris_df[\"class\"]=model.labels_\n",
    "iris_df"
   ]
  },
  {
   "cell_type": "code",
   "execution_count": 17,
   "id": "43946059",
   "metadata": {},
   "outputs": [
    {
     "data": {},
     "metadata": {},
     "output_type": "display_data"
    },
    {
     "data": {
      "application/vnd.holoviews_exec.v0+json": "",
      "text/html": [
       "<div id='1120'>\n",
       "\n",
       "\n",
       "\n",
       "\n",
       "\n",
       "  <div class=\"bk-root\" id=\"cb1a519e-b7de-40d3-adef-a948183baf84\" data-root-id=\"1120\"></div>\n",
       "</div>\n",
       "<script type=\"application/javascript\">(function(root) {\n",
       "  function embed_document(root) {\n",
       "    var docs_json = {\"b9a6998a-2e17-48b8-a5ef-1c1df0fd5025\":{\"defs\":[{\"extends\":null,\"module\":null,\"name\":\"ReactiveHTML1\",\"overrides\":[],\"properties\":[]},{\"extends\":null,\"module\":null,\"name\":\"FlexBox1\",\"overrides\":[],\"properties\":[{\"default\":\"flex-start\",\"kind\":null,\"name\":\"align_content\"},{\"default\":\"flex-start\",\"kind\":null,\"name\":\"align_items\"},{\"default\":\"row\",\"kind\":null,\"name\":\"flex_direction\"},{\"default\":\"wrap\",\"kind\":null,\"name\":\"flex_wrap\"},{\"default\":\"flex-start\",\"kind\":null,\"name\":\"justify_content\"}]},{\"extends\":null,\"module\":null,\"name\":\"TemplateActions1\",\"overrides\":[],\"properties\":[{\"default\":0,\"kind\":null,\"name\":\"open_modal\"},{\"default\":0,\"kind\":null,\"name\":\"close_modal\"}]},{\"extends\":null,\"module\":null,\"name\":\"MaterialTemplateActions1\",\"overrides\":[],\"properties\":[{\"default\":0,\"kind\":null,\"name\":\"open_modal\"},{\"default\":0,\"kind\":null,\"name\":\"close_modal\"}]}],\"roots\":{\"references\":[{\"attributes\":{},\"id\":\"1144\",\"type\":\"SaveTool\"},{\"attributes\":{},\"id\":\"1137\",\"type\":\"BasicTicker\"},{\"attributes\":{\"fill_alpha\":{\"value\":0.2},\"fill_color\":{\"value\":\"#fc4f30\"},\"line_alpha\":{\"value\":0.2},\"line_color\":{\"value\":\"#fc4f30\"},\"size\":{\"value\":5.477225575051661},\"x\":{\"field\":\"principle component 1\"},\"y\":{\"field\":\"principle component 2\"}},\"id\":\"1189\",\"type\":\"Scatter\"},{\"attributes\":{},\"id\":\"1145\",\"type\":\"PanTool\"},{\"attributes\":{\"source\":{\"id\":\"1163\"}},\"id\":\"1170\",\"type\":\"CDSView\"},{\"attributes\":{\"fill_color\":{\"value\":\"#fc4f30\"},\"line_color\":{\"value\":\"#fc4f30\"},\"size\":{\"value\":5.477225575051661},\"x\":{\"field\":\"principle component 1\"},\"y\":{\"field\":\"principle component 2\"}},\"id\":\"1187\",\"type\":\"Scatter\"},{\"attributes\":{\"fill_alpha\":{\"value\":0.1},\"fill_color\":{\"value\":\"#fc4f30\"},\"line_alpha\":{\"value\":0.1},\"line_color\":{\"value\":\"#fc4f30\"},\"size\":{\"value\":5.477225575051661},\"x\":{\"field\":\"principle component 1\"},\"y\":{\"field\":\"principle component 2\"}},\"id\":\"1188\",\"type\":\"Scatter\"},{\"attributes\":{},\"id\":\"1148\",\"type\":\"ResetTool\"},{\"attributes\":{},\"id\":\"1164\",\"type\":\"Selection\"},{\"attributes\":{},\"id\":\"1146\",\"type\":\"WheelZoomTool\"},{\"attributes\":{\"below\":[{\"id\":\"1136\"}],\"center\":[{\"id\":\"1139\"},{\"id\":\"1143\"}],\"height\":300,\"left\":[{\"id\":\"1140\"}],\"margin\":[5,5,5,5],\"min_border_bottom\":10,\"min_border_left\":10,\"min_border_right\":10,\"min_border_top\":10,\"renderers\":[{\"id\":\"1169\"},{\"id\":\"1190\"},{\"id\":\"1212\"}],\"right\":[{\"id\":\"1181\"}],\"sizing_mode\":\"fixed\",\"title\":{\"id\":\"1128\"},\"toolbar\":{\"id\":\"1150\"},\"width\":700,\"x_range\":{\"id\":\"1122\"},\"x_scale\":{\"id\":\"1132\"},\"y_range\":{\"id\":\"1123\"},\"y_scale\":{\"id\":\"1134\"}},\"id\":\"1127\",\"subtype\":\"Figure\",\"type\":\"Plot\"},{\"attributes\":{\"margin\":[5,5,5,5],\"name\":\"HSpacer01962\",\"sizing_mode\":\"stretch_width\"},\"id\":\"1121\",\"type\":\"Spacer\"},{\"attributes\":{\"overlay\":{\"id\":\"1149\"}},\"id\":\"1147\",\"type\":\"BoxZoomTool\"},{\"attributes\":{\"label\":{\"value\":\"1\"},\"renderers\":[{\"id\":\"1190\"}]},\"id\":\"1204\",\"type\":\"LegendItem\"},{\"attributes\":{\"angle\":{\"value\":0.0},\"fill_alpha\":{\"value\":1.0},\"fill_color\":{\"value\":\"#fc4f30\"},\"hatch_alpha\":{\"value\":1.0},\"hatch_color\":{\"value\":\"black\"},\"hatch_scale\":{\"value\":12.0},\"hatch_weight\":{\"value\":1.0},\"line_alpha\":{\"value\":1.0},\"line_cap\":{\"value\":\"butt\"},\"line_color\":{\"value\":\"#fc4f30\"},\"line_dash\":{\"value\":[]},\"line_dash_offset\":{\"value\":0},\"line_join\":{\"value\":\"bevel\"},\"line_width\":{\"value\":1},\"marker\":{\"value\":\"circle\"},\"size\":{\"value\":5.477225575051661},\"x\":{\"field\":\"principle component 1\"},\"y\":{\"field\":\"principle component 2\"}},\"id\":\"1205\",\"type\":\"Scatter\"},{\"attributes\":{\"data\":{\"class\":{\"__ndarray__\":\"AAAAAAAAAAAAAAAAAAAAAAAAAAAAAAAAAAAAAAAAAAAAAAAAAAAAAAAAAAAAAAAAAAAAAAAAAAAAAAAAAAAAAAAAAAAAAAAAAAAAAAAAAAAAAAAAAAAAAAAAAAAAAAAAAAAAAAAAAAAAAAAAAAAAAAAAAAAAAAAAAAAAAAAAAAAAAAAAAAAAAAAAAAAAAAAAAAAAAAAAAAAAAAAAAAAAAAAAAAAAAAAAAAAAAAAAAAAAAAAAAAAAAAAAAAAAAAAAAAAAAAAAAAA=\",\"dtype\":\"int32\",\"order\":\"little\",\"shape\":[50]},\"principle component 1\":{\"__ndarray__\":\"PRG/DcgdAsChflXa/7AAwDAtSgGQ8QLArHjV6/5uAsB+OOBfNxwDwLMJAJp1kADA61hZG9GQA8C5vPx66N4BwLnvZ05UvALA49Uzb2iCAcDIACQK0k4BwH+PWzp4ngLAbUHW4evKAcBxYBiPIx4FwOJkYiHQiQHA78LFMQADAsDDicmkO58BwNTnRqd8hQHAFLKL2CBO/r9wMd43N7gCwDou6+IFov6/KnpNIB2jAcAkHszufzEGwHOyHOBnIP2/c29EsmPTAcBnStBn+E//v+gJWiugagDA0BcE6nVYAcD06Z27WB8BwCMNM3l7JgLA3+URJwwoAcCzCNRTnk/9v3iUD3eZ3QTAyIxIYeyAA8Dj1TNvaIIBwAbB4qBfsAHAqgtPDPdaAMDj1TNvaIIBwJ7dMoLUfAPAVSP02UddAcA84QHLzkoCwF9zDEaD8v2/X/lj5HF2BMD6iQQfsG3/v/qHnMYlEQHAoe7lFFWaAMDT+qMb0QwDwJFmoB9/LwPALZosq3LQAcDdjpZMy6UBwA==\",\"dtype\":\"float64\",\"order\":\"little\",\"shape\":[50]},\"principle component 2\":{\"__ndarray__\":\"YO9787ku4D/xF8lWE/nkv3bYpqjuYdS/EiSQjGlp4r/P0afLsZflP7m+IZP5S/g/MiSoGooWsz9veXQ10LHPP88IOjG4hfG/kU6pnFa23L9nMKXTKCHxPym/qP2XTMQ/qao3kBix5r+LiXLvZwbuv9eryBtaPf4/krWrfGrHBUBejF03Ujj4PzP+/04udeA/8kk0V9Tl9j8opZIPTofyP2TAlsG9jNs/2vKSxId67j8/u+o4P1TfPwzWDBwFVLs/SO1BJITCxD+6YRod23Pjv2mqjuRgBtE/a4xIfx6q4T/VGaA2hIvVP2BBWpX4JtS/SwayRej43r8Glx54QH/cP7lxJTRvQf0/xLJwma57AUCRTqmcVrbcvyvn16FhmMe/reVDvSnr5T+RTqmcVrbcv3jEP1q7Ouy/cUSP1gm80j9RwmaGk/PdP4B/28YcnwLAqO8l3FML3b9mssu+Q9XfP+7eGJkvvvI//Ywv2S8k5r9SqsG4/WjyP9ettwhpMde/du6vZGBo8D+k7UmWeoGgPw==\",\"dtype\":\"float64\",\"order\":\"little\",\"shape\":[50]},\"principle_component_1\":{\"__ndarray__\":\"PRG/DcgdAsChflXa/7AAwDAtSgGQ8QLArHjV6/5uAsB+OOBfNxwDwLMJAJp1kADA61hZG9GQA8C5vPx66N4BwLnvZ05UvALA49Uzb2iCAcDIACQK0k4BwH+PWzp4ngLAbUHW4evKAcBxYBiPIx4FwOJkYiHQiQHA78LFMQADAsDDicmkO58BwNTnRqd8hQHAFLKL2CBO/r9wMd43N7gCwDou6+IFov6/KnpNIB2jAcAkHszufzEGwHOyHOBnIP2/c29EsmPTAcBnStBn+E//v+gJWiugagDA0BcE6nVYAcD06Z27WB8BwCMNM3l7JgLA3+URJwwoAcCzCNRTnk/9v3iUD3eZ3QTAyIxIYeyAA8Dj1TNvaIIBwAbB4qBfsAHAqgtPDPdaAMDj1TNvaIIBwJ7dMoLUfAPAVSP02UddAcA84QHLzkoCwF9zDEaD8v2/X/lj5HF2BMD6iQQfsG3/v/qHnMYlEQHAoe7lFFWaAMDT+qMb0QwDwJFmoB9/LwPALZosq3LQAcDdjpZMy6UBwA==\",\"dtype\":\"float64\",\"order\":\"little\",\"shape\":[50]},\"principle_component_2\":{\"__ndarray__\":\"YO9787ku4D/xF8lWE/nkv3bYpqjuYdS/EiSQjGlp4r/P0afLsZflP7m+IZP5S/g/MiSoGooWsz9veXQ10LHPP88IOjG4hfG/kU6pnFa23L9nMKXTKCHxPym/qP2XTMQ/qao3kBix5r+LiXLvZwbuv9eryBtaPf4/krWrfGrHBUBejF03Ujj4PzP+/04udeA/8kk0V9Tl9j8opZIPTofyP2TAlsG9jNs/2vKSxId67j8/u+o4P1TfPwzWDBwFVLs/SO1BJITCxD+6YRod23Pjv2mqjuRgBtE/a4xIfx6q4T/VGaA2hIvVP2BBWpX4JtS/SwayRej43r8Glx54QH/cP7lxJTRvQf0/xLJwma57AUCRTqmcVrbcvyvn16FhmMe/reVDvSnr5T+RTqmcVrbcv3jEP1q7Ouy/cUSP1gm80j9RwmaGk/PdP4B/28YcnwLAqO8l3FML3b9mssu+Q9XfP+7eGJkvvvI//Ywv2S8k5r9SqsG4/WjyP9ettwhpMde/du6vZGBo8D+k7UmWeoGgPw==\",\"dtype\":\"float64\",\"order\":\"little\",\"shape\":[50]}},\"selected\":{\"id\":\"1164\"},\"selection_policy\":{\"id\":\"1180\"}},\"id\":\"1163\",\"type\":\"ColumnDataSource\"},{\"attributes\":{\"source\":{\"id\":\"1184\"}},\"id\":\"1191\",\"type\":\"CDSView\"},{\"attributes\":{\"axis\":{\"id\":\"1136\"},\"grid_line_color\":null,\"ticker\":null},\"id\":\"1139\",\"type\":\"Grid\"},{\"attributes\":{\"data\":{\"class\":{\"__ndarray__\":\"AgAAAAIAAAACAAAAAgAAAAIAAAACAAAAAgAAAAIAAAACAAAAAgAAAAIAAAACAAAAAgAAAAIAAAACAAAAAgAAAAIAAAACAAAAAgAAAAIAAAACAAAAAgAAAAIAAAACAAAAAgAAAAIAAAACAAAAAgAAAAIAAAACAAAAAgAAAAIAAAACAAAAAgAAAAIAAAACAAAAAgAAAAIAAAACAAAAAgAAAAIAAAACAAAAAgAAAAIAAAACAAAAAgAAAAIAAAACAAAAAgAAAAIAAAACAAAAAgAAAAIAAAA=\",\"dtype\":\"int32\",\"order\":\"little\",\"shape\":[53]},\"principle component 1\":{\"__ndarray__\":\"ghWMhntt2T9JnJZFWCnxP2uBHlf2mtg/6f4dZv7c379tGywXnaPtPyPDkDZaWXQ/xd2FPizsv7+xz+h8JxTcP1dNsk78puE/OUUqJwTz5j+jz63ghxOjv5xu06S8RdY/37Iv7V2iwz9n6iTH4XHzPzTYZACmFsQ/WK1SDE473j8RyjX41qXzP4sxy7fjI+Q/G9CK7kVq5j8fhVUnIzDlP8ob1FJINai/WD98rN0cvz+JkFg5BOqMPx/f6GWaNc4/D81ZRTXo8D+zsJMoZVfMP9Cbvwf1kvA/vF4TnFcrsT97NwN1kKDRP819yQ7wbdE/pY3+VwPx4z+23kvRzh7VP7/EFNWD6de/2STllsIb0j83X21EL8y2PwckQhu5t8w/8wRG5kBd4j/cjFDrsj/dv+KA0gDGJNA/4F8IKHdz8j8Cokp+m+/WP1335HGkDPQ/HeKIxsts9z/9RPpdThD0P5JitwdQKu8/9YqkmmBE9T9jfP3wHsDyP9/2a9zEx/E/KTazatUo8z+ZvvFQw4ztP+BfCCh3c/I/StVbMZXv+D872SvtkrLuPw==\",\"dtype\":\"float64\",\"order\":\"little\",\"shape\":[53]},\"principle component 2\":{\"__ndarray__\":\"k80hw3Uh/L+NAFcJ4hrLv/AVlNb76eK/ZpSza/eU/b/3i2FUCw+fP+jLA01tePC/94KEXbZDBcCp9gYTsCWuv0vNqHx+XPy/1nstxk+8x78yLLY26rLbvwi+JkVKZsi/lYnUeJ9N6b9l5T6HOSL6v75Ai9CC2fS/uQipiLWp2r9Jr8dW+Rvuv+fFU70Krdq/EjfCViNBsL9fGdg+X7fMv2oFEZBX6vC/bcJ8cXkE+b9u1i92nSz5v0SekB1e1Oi/Di0SzX5h5L94bj2aaPnRv72Ls++KR/a/icdo/yc3y79AZwsN7Ub1vycJ/oM76fG//MUd1SI0nD9r68QlE6Xvv9DC5Ku5JADApEs7dJBT67+ojkY+Z2PGv072R1TcWdi/gTq1mhitw7+3+86JpaH4v6d6HI5KEeO/SwhbdkNx5r8/lg29Jfb4v5IxaImirfK/qK9g7els3L9SKnQyOXv7v0PNWXwPR+K/RGwdsBUn37/E2YlbzWjUv/uTgLFv8dK/TK/b9jwm6r+EAFtSILGTP0sIW3ZDcea/w1rVOlT47L8UCiw2mtGWvw==\",\"dtype\":\"float64\",\"order\":\"little\",\"shape\":[53]},\"principle_component_1\":{\"__ndarray__\":\"ghWMhntt2T9JnJZFWCnxP2uBHlf2mtg/6f4dZv7c379tGywXnaPtPyPDkDZaWXQ/xd2FPizsv7+xz+h8JxTcP1dNsk78puE/OUUqJwTz5j+jz63ghxOjv5xu06S8RdY/37Iv7V2iwz9n6iTH4XHzPzTYZACmFsQ/WK1SDE473j8RyjX41qXzP4sxy7fjI+Q/G9CK7kVq5j8fhVUnIzDlP8ob1FJINai/WD98rN0cvz+JkFg5BOqMPx/f6GWaNc4/D81ZRTXo8D+zsJMoZVfMP9Cbvwf1kvA/vF4TnFcrsT97NwN1kKDRP819yQ7wbdE/pY3+VwPx4z+23kvRzh7VP7/EFNWD6de/2STllsIb0j83X21EL8y2PwckQhu5t8w/8wRG5kBd4j/cjFDrsj/dv+KA0gDGJNA/4F8IKHdz8j8Cokp+m+/WP1335HGkDPQ/HeKIxsts9z/9RPpdThD0P5JitwdQKu8/9YqkmmBE9T9jfP3wHsDyP9/2a9zEx/E/KTazatUo8z+ZvvFQw4ztP+BfCCh3c/I/StVbMZXv+D872SvtkrLuPw==\",\"dtype\":\"float64\",\"order\":\"little\",\"shape\":[53]},\"principle_component_2\":{\"__ndarray__\":\"k80hw3Uh/L+NAFcJ4hrLv/AVlNb76eK/ZpSza/eU/b/3i2FUCw+fP+jLA01tePC/94KEXbZDBcCp9gYTsCWuv0vNqHx+XPy/1nstxk+8x78yLLY26rLbvwi+JkVKZsi/lYnUeJ9N6b9l5T6HOSL6v75Ai9CC2fS/uQipiLWp2r9Jr8dW+Rvuv+fFU70Krdq/EjfCViNBsL9fGdg+X7fMv2oFEZBX6vC/bcJ8cXkE+b9u1i92nSz5v0SekB1e1Oi/Di0SzX5h5L94bj2aaPnRv72Ls++KR/a/icdo/yc3y79AZwsN7Ub1vycJ/oM76fG//MUd1SI0nD9r68QlE6Xvv9DC5Ku5JADApEs7dJBT67+ojkY+Z2PGv072R1TcWdi/gTq1mhitw7+3+86JpaH4v6d6HI5KEeO/SwhbdkNx5r8/lg29Jfb4v5IxaImirfK/qK9g7els3L9SKnQyOXv7v0PNWXwPR+K/RGwdsBUn37/E2YlbzWjUv/uTgLFv8dK/TK/b9jwm6r+EAFtSILGTP0sIW3ZDcea/w1rVOlT47L8UCiw2mtGWvw==\",\"dtype\":\"float64\",\"order\":\"little\",\"shape\":[53]}},\"selected\":{\"id\":\"1207\"},\"selection_policy\":{\"id\":\"1227\"}},\"id\":\"1206\",\"type\":\"ColumnDataSource\"},{\"attributes\":{},\"id\":\"1207\",\"type\":\"Selection\"},{\"attributes\":{\"children\":[{\"id\":\"1121\"},{\"id\":\"1127\"},{\"id\":\"1356\"}],\"margin\":[0,0,0,0],\"name\":\"Row01958\",\"tags\":[\"embedded\"]},\"id\":\"1120\",\"type\":\"Row\"},{\"attributes\":{\"text_color\":\"black\",\"text_font_size\":\"12pt\"},\"id\":\"1128\",\"type\":\"Title\"},{\"attributes\":{\"data_source\":{\"id\":\"1184\"},\"glyph\":{\"id\":\"1187\"},\"hover_glyph\":null,\"muted_glyph\":{\"id\":\"1189\"},\"nonselection_glyph\":{\"id\":\"1188\"},\"selection_glyph\":{\"id\":\"1205\"},\"view\":{\"id\":\"1191\"}},\"id\":\"1190\",\"type\":\"GlyphRenderer\"},{\"attributes\":{},\"id\":\"1132\",\"type\":\"LinearScale\"},{\"attributes\":{},\"id\":\"1158\",\"type\":\"AllLabels\"},{\"attributes\":{\"fill_alpha\":{\"value\":0.2},\"fill_color\":{\"value\":\"#e5ae38\"},\"line_alpha\":{\"value\":0.2},\"line_color\":{\"value\":\"#e5ae38\"},\"size\":{\"value\":5.477225575051661},\"x\":{\"field\":\"principle component 1\"},\"y\":{\"field\":\"principle component 2\"}},\"id\":\"1211\",\"type\":\"Scatter\"},{\"attributes\":{\"margin\":[5,5,5,5],\"name\":\"HSpacer01963\",\"sizing_mode\":\"stretch_width\"},\"id\":\"1356\",\"type\":\"Spacer\"},{\"attributes\":{\"data\":{\"class\":{\"__ndarray__\":\"AQAAAAEAAAABAAAAAQAAAAEAAAABAAAAAQAAAAEAAAABAAAAAQAAAAEAAAABAAAAAQAAAAEAAAABAAAAAQAAAAEAAAABAAAAAQAAAAEAAAABAAAAAQAAAAEAAAABAAAAAQAAAAEAAAABAAAAAQAAAAEAAAABAAAAAQAAAAEAAAABAAAAAQAAAAEAAAABAAAAAQAAAAEAAAABAAAAAQAAAAEAAAABAAAAAQAAAAEAAAABAAAAAQAAAAEAAAA=\",\"dtype\":\"int32\",\"order\":\"little\",\"shape\":[47]},\"principle component 1\":{\"__ndarray__\":\"cZicP/Wp8T/ndLjqfHDnP0dUdjeu3/M/j32nUXn15z94t9eWSwfsPwbqCkTLn+c/YokX1wP06z/pYaNJSxH0PxRwyrRZu/U/YSqW1lWi2z+iboqoZcrwP2JoZCMRkP0/XKOtkJqmAUCvkwP82gT3P8Sof1zh4v0/cEK5SJgIBkDlZzhbjmwCQPUm68uNAwBAIU9oqvMjAkBti3vYw9r1P60QOb/Elfk/Oa6UReUl/j8a0QQIDXj5P3kdkBhdivc/P/YnSsB/A0AxhisDH3kKQJbn9rPvUgBANi4taDwvB0BAqLnnkUT7P6UJnj3aUv8/H9Lu7wVR8D+f2hYHfpP8P30bVl0h1v0/ifhsDuZ7A0AwtjE3VocCQGstB9QUxP0/jU42KVhoBkCz+a/eUEj5P+/OTXR+jfU/OwUQICao/T8NDMQGFyEAQLhqwqkqc/4/OQ5TGLJYAEC5eb2NdgMAQPDgNY2o7f0/94JComFV+D8P9OTEsgX2Pw==\",\"dtype\":\"float64\",\"order\":\"little\",\"shape\":[47]},\"principle component 2\":{\"__ndarray__\":\"2Hb2/Z2e6z8cPDfKBSjjP9nNPSGgrOM/t1+rWRnr6D9iOXqk51HgP5dBqiETwtk/W57yIJwL0D8OiLBClya1v0MteShkC9U/Egg+Gkhd6z/Bk6QJ17XgP4ksy2Xw5Os/C8TpFji+4T93lDOr+pqpv/hEGSLnotI/owetLdY66T9TO0mDhTXaP7KQnq/nKee/wo2XATu+/j83oQKF0jTmP2l9L85taNu/dKdDi22E2j81fGgVRqrlPzg3rDJONNA/gzlsMT10BEDLiaQTDFhjv0R0hSJpCe0/bpKR42l12T+TWt+y8znwP56AK36oDfA/gKj7cmzHsD/fvEvBKb3Iv5LkXX2vxeE/017ipF+Szz8m4TWwbAIFQIeBO1NYo8e/Sis1XS0I6z+oj2oE2yjxPyT8A+M9Bts/v6TAq3yE5T/d+zteX4jjP+N2Ilnq8+U/wCJfoH+r6z8/eOdp3MbwP/9DMiongNg/f9tvjSkT0T8hLdG5BEPwPw==\",\"dtype\":\"float64\",\"order\":\"little\",\"shape\":[47]},\"principle_component_1\":{\"__ndarray__\":\"cZicP/Wp8T/ndLjqfHDnP0dUdjeu3/M/j32nUXn15z94t9eWSwfsPwbqCkTLn+c/YokX1wP06z/pYaNJSxH0PxRwyrRZu/U/YSqW1lWi2z+iboqoZcrwP2JoZCMRkP0/XKOtkJqmAUCvkwP82gT3P8Sof1zh4v0/cEK5SJgIBkDlZzhbjmwCQPUm68uNAwBAIU9oqvMjAkBti3vYw9r1P60QOb/Elfk/Oa6UReUl/j8a0QQIDXj5P3kdkBhdivc/P/YnSsB/A0AxhisDH3kKQJbn9rPvUgBANi4taDwvB0BAqLnnkUT7P6UJnj3aUv8/H9Lu7wVR8D+f2hYHfpP8P30bVl0h1v0/ifhsDuZ7A0AwtjE3VocCQGstB9QUxP0/jU42KVhoBkCz+a/eUEj5P+/OTXR+jfU/OwUQICao/T8NDMQGFyEAQLhqwqkqc/4/OQ5TGLJYAEC5eb2NdgMAQPDgNY2o7f0/94JComFV+D8P9OTEsgX2Pw==\",\"dtype\":\"float64\",\"order\":\"little\",\"shape\":[47]},\"principle_component_2\":{\"__ndarray__\":\"2Hb2/Z2e6z8cPDfKBSjjP9nNPSGgrOM/t1+rWRnr6D9iOXqk51HgP5dBqiETwtk/W57yIJwL0D8OiLBClya1v0MteShkC9U/Egg+Gkhd6z/Bk6QJ17XgP4ksy2Xw5Os/C8TpFji+4T93lDOr+pqpv/hEGSLnotI/owetLdY66T9TO0mDhTXaP7KQnq/nKee/wo2XATu+/j83oQKF0jTmP2l9L85taNu/dKdDi22E2j81fGgVRqrlPzg3rDJONNA/gzlsMT10BEDLiaQTDFhjv0R0hSJpCe0/bpKR42l12T+TWt+y8znwP56AK36oDfA/gKj7cmzHsD/fvEvBKb3Iv5LkXX2vxeE/017ipF+Szz8m4TWwbAIFQIeBO1NYo8e/Sis1XS0I6z+oj2oE2yjxPyT8A+M9Bts/v6TAq3yE5T/d+zteX4jjP+N2Ilnq8+U/wCJfoH+r6z8/eOdp3MbwP/9DMiongNg/f9tvjSkT0T8hLdG5BEPwPw==\",\"dtype\":\"float64\",\"order\":\"little\",\"shape\":[47]}},\"selected\":{\"id\":\"1185\"},\"selection_policy\":{\"id\":\"1203\"}},\"id\":\"1184\",\"type\":\"ColumnDataSource\"},{\"attributes\":{},\"id\":\"1185\",\"type\":\"Selection\"},{\"attributes\":{},\"id\":\"1134\",\"type\":\"LinearScale\"},{\"attributes\":{},\"id\":\"1157\",\"type\":\"BasicTickFormatter\"},{\"attributes\":{},\"id\":\"1141\",\"type\":\"BasicTicker\"},{\"attributes\":{},\"id\":\"1227\",\"type\":\"UnionRenderers\"},{\"attributes\":{\"axis_label\":\"principle component 1\",\"formatter\":{\"id\":\"1157\"},\"major_label_policy\":{\"id\":\"1158\"},\"ticker\":{\"id\":\"1137\"}},\"id\":\"1136\",\"type\":\"LinearAxis\"},{\"attributes\":{},\"id\":\"1203\",\"type\":\"UnionRenderers\"},{\"attributes\":{\"angle\":{\"value\":0.0},\"fill_alpha\":{\"value\":1.0},\"fill_color\":{\"value\":\"#e5ae38\"},\"hatch_alpha\":{\"value\":1.0},\"hatch_color\":{\"value\":\"black\"},\"hatch_scale\":{\"value\":12.0},\"hatch_weight\":{\"value\":1.0},\"line_alpha\":{\"value\":1.0},\"line_cap\":{\"value\":\"butt\"},\"line_color\":{\"value\":\"#e5ae38\"},\"line_dash\":{\"value\":[]},\"line_dash_offset\":{\"value\":0},\"line_join\":{\"value\":\"bevel\"},\"line_width\":{\"value\":1},\"marker\":{\"value\":\"circle\"},\"size\":{\"value\":5.477225575051661},\"x\":{\"field\":\"principle component 1\"},\"y\":{\"field\":\"principle component 2\"}},\"id\":\"1229\",\"type\":\"Scatter\"},{\"attributes\":{\"end\":3.260414452028092,\"reset_end\":3.260414452028092,\"reset_start\":-3.1961060534153853,\"start\":-3.1961060534153853,\"tags\":[[[\"principle component 2\",\"principle component 2\",null]]]},\"id\":\"1123\",\"type\":\"Range1d\"},{\"attributes\":{\"active_multi\":null,\"tools\":[{\"id\":\"1124\"},{\"id\":\"1144\"},{\"id\":\"1145\"},{\"id\":\"1146\"},{\"id\":\"1147\"},{\"id\":\"1148\"}]},\"id\":\"1150\",\"type\":\"Toolbar\"},{\"attributes\":{\"axis\":{\"id\":\"1140\"},\"dimension\":1,\"grid_line_color\":null,\"ticker\":null},\"id\":\"1143\",\"type\":\"Grid\"},{\"attributes\":{\"data_source\":{\"id\":\"1163\"},\"glyph\":{\"id\":\"1166\"},\"hover_glyph\":null,\"muted_glyph\":{\"id\":\"1168\"},\"nonselection_glyph\":{\"id\":\"1167\"},\"selection_glyph\":{\"id\":\"1183\"},\"view\":{\"id\":\"1170\"}},\"id\":\"1169\",\"type\":\"GlyphRenderer\"},{\"attributes\":{\"axis_label\":\"principle component 2\",\"formatter\":{\"id\":\"1160\"},\"major_label_policy\":{\"id\":\"1161\"},\"ticker\":{\"id\":\"1141\"}},\"id\":\"1140\",\"type\":\"LinearAxis\"},{\"attributes\":{\"data_source\":{\"id\":\"1206\"},\"glyph\":{\"id\":\"1209\"},\"hover_glyph\":null,\"muted_glyph\":{\"id\":\"1211\"},\"nonselection_glyph\":{\"id\":\"1210\"},\"selection_glyph\":{\"id\":\"1229\"},\"view\":{\"id\":\"1213\"}},\"id\":\"1212\",\"type\":\"GlyphRenderer\"},{\"attributes\":{\"label\":{\"value\":\"2\"},\"renderers\":[{\"id\":\"1212\"}]},\"id\":\"1228\",\"type\":\"LegendItem\"},{\"attributes\":{\"fill_alpha\":{\"value\":0.2},\"fill_color\":{\"value\":\"#30a2da\"},\"line_alpha\":{\"value\":0.2},\"line_color\":{\"value\":\"#30a2da\"},\"size\":{\"value\":5.477225575051661},\"x\":{\"field\":\"principle component 1\"},\"y\":{\"field\":\"principle component 2\"}},\"id\":\"1168\",\"type\":\"Scatter\"},{\"attributes\":{\"end\":3.5698545102352752,\"reset_end\":3.5698545102352752,\"reset_start\":-3.034883121264353,\"start\":-3.034883121264353,\"tags\":[[[\"principle component 1\",\"principle component 1\",null]]]},\"id\":\"1122\",\"type\":\"Range1d\"},{\"attributes\":{\"label\":{\"value\":\"0\"},\"renderers\":[{\"id\":\"1169\"}]},\"id\":\"1182\",\"type\":\"LegendItem\"},{\"attributes\":{\"fill_color\":{\"value\":\"#30a2da\"},\"line_color\":{\"value\":\"#30a2da\"},\"size\":{\"value\":5.477225575051661},\"x\":{\"field\":\"principle component 1\"},\"y\":{\"field\":\"principle component 2\"}},\"id\":\"1166\",\"type\":\"Scatter\"},{\"attributes\":{\"bottom_units\":\"screen\",\"fill_alpha\":0.5,\"fill_color\":\"lightgrey\",\"left_units\":\"screen\",\"level\":\"overlay\",\"line_alpha\":1.0,\"line_color\":\"black\",\"line_dash\":[4,4],\"line_width\":2,\"right_units\":\"screen\",\"syncable\":false,\"top_units\":\"screen\"},\"id\":\"1149\",\"type\":\"BoxAnnotation\"},{\"attributes\":{\"callback\":null,\"renderers\":[{\"id\":\"1169\"},{\"id\":\"1190\"},{\"id\":\"1212\"}],\"tags\":[\"hv_created\"],\"tooltips\":[[\"class\",\"@{class}\"],[\"principle component 1\",\"@{principle_component_1}\"],[\"principle component 2\",\"@{principle_component_2}\"]]},\"id\":\"1124\",\"type\":\"HoverTool\"},{\"attributes\":{},\"id\":\"1180\",\"type\":\"UnionRenderers\"},{\"attributes\":{\"click_policy\":\"mute\",\"items\":[{\"id\":\"1182\"},{\"id\":\"1204\"},{\"id\":\"1228\"}],\"location\":[0,0],\"title\":\"class\"},\"id\":\"1181\",\"type\":\"Legend\"},{\"attributes\":{\"fill_color\":{\"value\":\"#e5ae38\"},\"line_color\":{\"value\":\"#e5ae38\"},\"size\":{\"value\":5.477225575051661},\"x\":{\"field\":\"principle component 1\"},\"y\":{\"field\":\"principle component 2\"}},\"id\":\"1209\",\"type\":\"Scatter\"},{\"attributes\":{\"angle\":{\"value\":0.0},\"fill_alpha\":{\"value\":1.0},\"fill_color\":{\"value\":\"#30a2da\"},\"hatch_alpha\":{\"value\":1.0},\"hatch_color\":{\"value\":\"black\"},\"hatch_scale\":{\"value\":12.0},\"hatch_weight\":{\"value\":1.0},\"line_alpha\":{\"value\":1.0},\"line_cap\":{\"value\":\"butt\"},\"line_color\":{\"value\":\"#30a2da\"},\"line_dash\":{\"value\":[]},\"line_dash_offset\":{\"value\":0},\"line_join\":{\"value\":\"bevel\"},\"line_width\":{\"value\":1},\"marker\":{\"value\":\"circle\"},\"size\":{\"value\":5.477225575051661},\"x\":{\"field\":\"principle component 1\"},\"y\":{\"field\":\"principle component 2\"}},\"id\":\"1183\",\"type\":\"Scatter\"},{\"attributes\":{\"fill_alpha\":{\"value\":0.1},\"fill_color\":{\"value\":\"#30a2da\"},\"line_alpha\":{\"value\":0.1},\"line_color\":{\"value\":\"#30a2da\"},\"size\":{\"value\":5.477225575051661},\"x\":{\"field\":\"principle component 1\"},\"y\":{\"field\":\"principle component 2\"}},\"id\":\"1167\",\"type\":\"Scatter\"},{\"attributes\":{},\"id\":\"1160\",\"type\":\"BasicTickFormatter\"},{\"attributes\":{\"fill_alpha\":{\"value\":0.1},\"fill_color\":{\"value\":\"#e5ae38\"},\"line_alpha\":{\"value\":0.1},\"line_color\":{\"value\":\"#e5ae38\"},\"size\":{\"value\":5.477225575051661},\"x\":{\"field\":\"principle component 1\"},\"y\":{\"field\":\"principle component 2\"}},\"id\":\"1210\",\"type\":\"Scatter\"},{\"attributes\":{},\"id\":\"1161\",\"type\":\"AllLabels\"},{\"attributes\":{\"source\":{\"id\":\"1206\"}},\"id\":\"1213\",\"type\":\"CDSView\"}],\"root_ids\":[\"1120\"]},\"title\":\"Bokeh Application\",\"version\":\"2.3.2\"}};\n",
       "    var render_items = [{\"docid\":\"b9a6998a-2e17-48b8-a5ef-1c1df0fd5025\",\"root_ids\":[\"1120\"],\"roots\":{\"1120\":\"cb1a519e-b7de-40d3-adef-a948183baf84\"}}];\n",
       "    root.Bokeh.embed.embed_items_notebook(docs_json, render_items);\n",
       "  }\n",
       "  if (root.Bokeh !== undefined && root.Bokeh.Panel !== undefined) {\n",
       "    embed_document(root);\n",
       "  } else {\n",
       "    var attempts = 0;\n",
       "    var timer = setInterval(function(root) {\n",
       "      if (root.Bokeh !== undefined && root.Bokeh.Panel !== undefined) {\n",
       "        clearInterval(timer);\n",
       "        embed_document(root);\n",
       "      } else if (document.readyState == \"complete\") {\n",
       "        attempts++;\n",
       "        if (attempts > 200) {\n",
       "          clearInterval(timer);\n",
       "          console.log(\"Bokeh: ERROR: Unable to run BokehJS code because BokehJS library is missing\");\n",
       "        }\n",
       "      }\n",
       "    }, 25, root)\n",
       "  }\n",
       "})(window);</script>"
      ],
      "text/plain": [
       ":NdOverlay   [class]\n",
       "   :Scatter   [principle component 1]   (principle component 2,class)"
      ]
     },
     "execution_count": 17,
     "metadata": {
      "application/vnd.holoviews_exec.v0+json": {
       "id": "1120"
      }
     },
     "output_type": "execute_result"
    }
   ],
   "source": [
    "iris_df.hvplot.scatter(x=\"principle component 1\",y=\"principle component 2\",hover_cols=[\"class\"],by=\"class\")"
   ]
  },
  {
   "cell_type": "code",
   "execution_count": null,
   "id": "d0b0d72a",
   "metadata": {},
   "outputs": [],
   "source": []
  }
 ],
 "metadata": {
  "kernelspec": {
   "display_name": "mlenv",
   "language": "python",
   "name": "mlenv"
  },
  "language_info": {
   "codemirror_mode": {
    "name": "ipython",
    "version": 3
   },
   "file_extension": ".py",
   "mimetype": "text/x-python",
   "name": "python",
   "nbconvert_exporter": "python",
   "pygments_lexer": "ipython3",
   "version": "3.7.10"
  }
 },
 "nbformat": 4,
 "nbformat_minor": 5
}
